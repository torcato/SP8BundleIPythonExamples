{
 "cells": [
  {
   "cell_type": "code",
   "execution_count": 1,
   "metadata": {
    "collapsed": true
   },
   "outputs": [],
   "source": [
    "import requests\n",
    "import json"
   ]
  },
  {
   "cell_type": "markdown",
   "metadata": {},
   "source": [
    "## Getting the results through a query"
   ]
  },
  {
   "cell_type": "code",
   "execution_count": 99,
   "metadata": {
    "collapsed": true
   },
   "outputs": [],
   "source": [
    "def send_query( executer_url , user, query):\n",
    "    data = dict(query=query )\n",
    "    url = '%s/query' % executer_url \n",
    "    response=requests.post(url, json=data, auth=(user, 'pass'))\n",
    "    if response.status_code != 200:\n",
    "        raise Exception (response)\n",
    "    else:\n",
    "        r = json.loads(response.text)\n",
    "        return r"
   ]
  },
  {
   "cell_type": "code",
   "execution_count": 283,
   "metadata": {
    "collapsed": false
   },
   "outputs": [],
   "source": [
    "executer='http://diascld10.epfl.ch:54321'\n",
    "user = 'federation'\n",
    "query = \"\"\"\n",
    "select distinct patient_id,( select variable_name as name, value from partition) as vars\n",
    "    from exam_value\n",
    "    where \n",
    "         variable_name = \"DX_bl\" or\n",
    "         variable_name = \"CDRSB_bl\" or\n",
    "         variable_name = \"MMSE_bl\" or\n",
    "         variable_name = \"AGE\" or\n",
    "         variable_name = \"PTGENDER\" or\n",
    "         variable_name = \"PTEDUCAT\" \n",
    "    group by patient_id\n",
    "\"\"\"\n",
    "result = send_query(executer, user,query )"
   ]
  },
  {
   "cell_type": "code",
   "execution_count": 284,
   "metadata": {
    "collapsed": false
   },
   "outputs": [],
   "source": [
    "\n",
    "empty=set()\n",
    "for p in result['output']:\n",
    "    for v in p['vars']:\n",
    "        if v['value'] == '':\n",
    "            empty.add( v['name'])\n",
    "            \n",
    "for name in empty:\n",
    "    print name"
   ]
  },
  {
   "cell_type": "markdown",
   "metadata": {},
   "source": [
    "## Getting the list of different types of diagnosis (DX_bl)"
   ]
  },
  {
   "cell_type": "code",
   "execution_count": 285,
   "metadata": {
    "collapsed": false
   },
   "outputs": [
    {
     "data": {
      "text/plain": [
       "{u'compilationTime': 278,\n",
       " u'executionTime': 188,\n",
       " u'output': [u'CN', u'LMCI', u'AD', u'EMCI', u'SMC']}"
      ]
     },
     "execution_count": 285,
     "metadata": {},
     "output_type": "execute_result"
    }
   ],
   "source": [
    "user = 'federation'\n",
    "query = \"\"\"\n",
    "select distinct value\n",
    "    from exam_value\n",
    "    where  variable_name = \"DX_bl\"\n",
    "\"\"\"\n",
    "\n",
    "result2 = send_query(executer, user,query )\n",
    "result2"
   ]
  },
  {
   "cell_type": "code",
   "execution_count": 286,
   "metadata": {
    "collapsed": false
   },
   "outputs": [
    {
     "name": "stdout",
     "output_type": "stream",
     "text": [
      "CN -> 0.0\n",
      "LMCI -> 1.0\n",
      "AD -> 2.0\n",
      "EMCI -> 3.0\n",
      "SMC -> 4.0\n"
     ]
    }
   ],
   "source": [
    "#creating helper dictionary to map diagnosis to a float value\n",
    "dx= dict()\n",
    "for n,d in enumerate(result2['output']):\n",
    "    dx[d]=float(n)\n",
    "    print d ,\"->\" ,dx[d]"
   ]
  },
  {
   "cell_type": "markdown",
   "metadata": {},
   "source": [
    "## we will try the random forest classifier\n",
    "this is as see in example \n",
    "http://scikit-learn.org/stable/auto_examples/ensemble/plot_forest_importances.html"
   ]
  },
  {
   "cell_type": "code",
   "execution_count": 287,
   "metadata": {
    "collapsed": false
   },
   "outputs": [],
   "source": [
    "import numpy as np\n",
    "import sklearn as sk\n",
    "import sklearn.datasets as skd\n",
    "import sklearn.ensemble as ske\n",
    "import matplotlib.pyplot as plt\n",
    "import matplotlib as mpl\n",
    "%matplotlib inline"
   ]
  },
  {
   "cell_type": "markdown",
   "metadata": {
    "collapsed": true
   },
   "source": [
    "### We need to transform all values to float for the algorithm"
   ]
  },
  {
   "cell_type": "code",
   "execution_count": 321,
   "metadata": {
    "collapsed": false
   },
   "outputs": [],
   "source": [
    "import random\n",
    "\n",
    "def get_dx_value(value):\n",
    "    #return dx[value]\n",
    "    if value == 'AD':\n",
    "        return 1.0\n",
    "    else:\n",
    "        return 0.0\n",
    "\n",
    "random.seed()\n",
    "data = result['output']\n",
    "trainX = []\n",
    "trainY = []\n",
    "for p in data:\n",
    "    values = dict()\n",
    "    y = None\n",
    "    # transforms vars to a dict and converts the values to float\n",
    "    for v in p['vars']:\n",
    "        name =  v['name']\n",
    "        value = v['value']\n",
    "        if name == 'DX_bl':\n",
    "            #y value for training \n",
    "            y = dx[value]\n",
    "        elif  name != 'PTGENDER':\n",
    "            try:\n",
    "                values[name] = float(value)\n",
    "            except:\n",
    "                print \"could not transform %s->'%s'\" % (name, value)\n",
    "                raise\n",
    "        elif value == 'Male':\n",
    "            values[name] = 1.0\n",
    "        else:\n",
    "            values[name] = 0.0\n",
    "    \n",
    "    values['Random'] = 100*random.random()\n",
    "    # sorts the keys so that all values always in the same order\n",
    "    keys = values.keys()\n",
    "    keys.sort()\n",
    "    trainX.append([values[k] for k in keys])\n",
    "    trainY.append(y)"
   ]
  },
  {
   "cell_type": "code",
   "execution_count": 322,
   "metadata": {
    "collapsed": false
   },
   "outputs": [
    {
     "data": {
      "text/plain": [
       "[u'AGE', u'CDRSB_bl', u'MMSE_bl', u'PTEDUCAT', u'PTGENDER', 'Random']"
      ]
     },
     "execution_count": 322,
     "metadata": {},
     "output_type": "execute_result"
    }
   ],
   "source": [
    "keys"
   ]
  },
  {
   "cell_type": "code",
   "execution_count": 323,
   "metadata": {
    "collapsed": false
   },
   "outputs": [
    {
     "name": "stdout",
     "output_type": "stream",
     "text": [
      "0,CDRSB_bl,0.375924 \n",
      "1,MMSE_bl,0.179195 \n",
      "2,AGE,0.168738 \n",
      "3,Random,0.150175 \n",
      "4,PTEDUCAT,0.105422 \n",
      "5,PTGENDER,0.020546 \n"
     ]
    }
   ],
   "source": [
    "forest = ske.ExtraTreesClassifier()\n",
    "forest.fit(trainX, trainY)\n",
    "\n",
    "fet_ind = np.argsort(forest.feature_importances_)[::-1]\n",
    "fet_imp = forest.feature_importances_[fet_ind]\n",
    "\n",
    "for n, idx in enumerate(fet_ind):\n",
    "    print \"%d,%s,%f \" % (n,keys[idx], fet_imp[n])"
   ]
  },
  {
   "cell_type": "code",
   "execution_count": 324,
   "metadata": {
    "collapsed": false
   },
   "outputs": [
    {
     "data": {
      "text/plain": [
       "array([ 0.16873786,  0.37592392,  0.17919516,  0.10542175,  0.02054645,\n",
       "        0.15017487])"
      ]
     },
     "execution_count": 324,
     "metadata": {},
     "output_type": "execute_result"
    }
   ],
   "source": [
    "forest.feature_importances_"
   ]
  },
  {
   "cell_type": "markdown",
   "metadata": {},
   "source": [
    "### This is using a random forest classifier"
   ]
  },
  {
   "cell_type": "code",
   "execution_count": 330,
   "metadata": {
    "collapsed": false
   },
   "outputs": [
    {
     "name": "stdout",
     "output_type": "stream",
     "text": [
      "0,CDRSB_bl,0.364200 \n",
      "1,MMSE_bl,0.189328 \n",
      "2,AGE,0.182802 \n",
      "3,Random,0.157334 \n",
      "4,PTEDUCAT,0.080726 \n",
      "5,PTGENDER,0.025610 \n"
     ]
    }
   ],
   "source": [
    "reg = ske.RandomForestClassifier()\n",
    "\n",
    "reg.fit(trainX, trainY);\n",
    "\n",
    "fet_ind = np.argsort(reg.feature_importances_)[::-1]\n",
    "fet_imp = reg.feature_importances_[fet_ind]\n",
    "\n",
    "for n, idx in enumerate(fet_ind):\n",
    "    print \"%d,%s,%f \" % (n,keys[idx], fet_imp[n]) "
   ]
  },
  {
   "cell_type": "markdown",
   "metadata": {},
   "source": [
    "### This is using a random forest regressor instead of a ExtraTreesClassifier"
   ]
  },
  {
   "cell_type": "code",
   "execution_count": 331,
   "metadata": {
    "collapsed": false
   },
   "outputs": [
    {
     "name": "stdout",
     "output_type": "stream",
     "text": [
      "0,AGE,0.325238 \n",
      "1,Random,0.239127 \n",
      "2,CDRSB_bl,0.215509 \n",
      "3,PTEDUCAT,0.096133 \n",
      "4,MMSE_bl,0.086882 \n",
      "5,PTGENDER,0.037111 \n"
     ]
    }
   ],
   "source": [
    "reg = ske.RandomForestRegressor()\n",
    "\n",
    "reg.fit(trainX, trainY);\n",
    "\n",
    "fet_ind = np.argsort(reg.feature_importances_)[::-1]\n",
    "fet_imp = reg.feature_importances_[fet_ind]\n",
    "\n",
    "for n, idx in enumerate(fet_ind):\n",
    "    print \"%d,%s,%f \" % (n,keys[idx], fet_imp[n]) "
   ]
  },
  {
   "cell_type": "code",
   "execution_count": 328,
   "metadata": {
    "collapsed": false
   },
   "outputs": [
    {
     "name": "stdout",
     "output_type": "stream",
     "text": [
      "0.568221070812\n"
     ]
    }
   ],
   "source": [
    "l = [a[4] for a in trainX]\n",
    "\n",
    "print reduce(lambda x, y: x + y, l) / len(l)"
   ]
  },
  {
   "cell_type": "code",
   "execution_count": null,
   "metadata": {
    "collapsed": true
   },
   "outputs": [],
   "source": []
  }
 ],
 "metadata": {
  "kernelspec": {
   "display_name": "Python 2",
   "language": "python",
   "name": "python2"
  },
  "language_info": {
   "codemirror_mode": {
    "name": "ipython",
    "version": 2
   },
   "file_extension": ".py",
   "mimetype": "text/x-python",
   "name": "python",
   "nbconvert_exporter": "python",
   "pygments_lexer": "ipython2",
   "version": "2.7.10"
  }
 },
 "nbformat": 4,
 "nbformat_minor": 0
}

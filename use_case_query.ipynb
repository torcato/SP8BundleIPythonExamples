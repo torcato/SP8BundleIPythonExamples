{
 "cells": [
  {
   "cell_type": "code",
   "execution_count": 1,
   "metadata": {
    "collapsed": true
   },
   "outputs": [],
   "source": [
    "import requests\n",
    "import json"
   ]
  },
  {
   "cell_type": "markdown",
   "metadata": {},
   "source": [
    "## Getting the results through a query"
   ]
  },
  {
   "cell_type": "code",
   "execution_count": 442,
   "metadata": {
    "collapsed": true
   },
   "outputs": [],
   "source": [
    "def send_query( executer_url , user, query):\n",
    "    data = dict(query=query )\n",
    "    url = '%s/query' % executer_url \n",
    "    response=requests.post(url, json=data, auth=(user, '*****'))\n",
    "    if response.status_code != 200:\n",
    "        if response.status_code == 400:\n",
    "            raise Exception (\"Query error:\\n%s\" % response.text)\n",
    "        else:\n",
    "\n",
    "            raise Exception (\"Unknown Error:\\n%s\" % response.text)\n",
    "    else:\n",
    "        r = json.loads(response.text)\n",
    "        return r"
   ]
  },
  {
   "cell_type": "code",
   "execution_count": 454,
   "metadata": {
    "collapsed": false
   },
   "outputs": [],
   "source": [
    "executer='http://diascld10.epfl.ch:54321'\n",
    "user = 'federation'\n",
    "# we are not using  variable_name = \"APOE4_bl\" as this has empty values\n",
    "query = \"\"\"\n",
    "select distinct patient_id,( select variable_name as name, value from partition) as vars\n",
    "    from exam_value\n",
    "    where \n",
    "         variable_name = \"DX_bl\" or\n",
    "         variable_name = \"CDRSB_bl\" or\n",
    "         variable_name = \"MMSE_bl\" or\n",
    "         variable_name = \"AGE\" or\n",
    "         variable_name = \"PTGENDER\" or\n",
    "         variable_name = \"PTEDUCAT\" \n",
    "    group by patient_id\n",
    "\"\"\"\n",
    "result = send_query(executer, user,query )"
   ]
  },
  {
   "cell_type": "markdown",
   "metadata": {},
   "source": [
    "## Getting the list of different types of diagnosis (DX_bl)"
   ]
  },
  {
   "cell_type": "code",
   "execution_count": 455,
   "metadata": {
    "collapsed": false
   },
   "outputs": [
    {
     "data": {
      "text/plain": [
       "{u'compilationTime': 274,\n",
       " u'executionTime': 186,\n",
       " u'output': [u'CN', u'LMCI', u'AD', u'EMCI', u'SMC']}"
      ]
     },
     "execution_count": 455,
     "metadata": {},
     "output_type": "execute_result"
    }
   ],
   "source": [
    "user = '********'\n",
    "query = \"\"\"\n",
    "select distinct value\n",
    "    from exam_value\n",
    "    where  variable_name = \"DX_bl\"\n",
    "\"\"\"\n",
    "\n",
    "result2 = send_query(executer, user,query )\n",
    "result2"
   ]
  },
  {
   "cell_type": "code",
   "execution_count": 456,
   "metadata": {
    "collapsed": false
   },
   "outputs": [
    {
     "name": "stdout",
     "output_type": "stream",
     "text": [
      "CN -> 0.0\n",
      "LMCI -> 1.0\n",
      "AD -> 2.0\n",
      "EMCI -> 3.0\n",
      "SMC -> 4.0\n"
     ]
    }
   ],
   "source": [
    "#creating helper dictionary to map diagnosis to a float value\n",
    "dx= dict()\n",
    "for n,d in enumerate(result2['output']):\n",
    "    dx[d]=float(n)\n",
    "    print d ,\"->\" ,dx[d]"
   ]
  },
  {
   "cell_type": "markdown",
   "metadata": {},
   "source": [
    "## we will try to get the feature significance\n",
    "this is as see in example \n",
    "http://scikit-learn.org/stable/auto_examples/ensemble/plot_forest_importances.html"
   ]
  },
  {
   "cell_type": "code",
   "execution_count": 457,
   "metadata": {
    "collapsed": false
   },
   "outputs": [],
   "source": [
    "import numpy as np\n",
    "import sklearn as sk\n",
    "import sklearn.datasets as skd\n",
    "import sklearn.ensemble as ske\n",
    "import matplotlib.pyplot as plt\n",
    "import matplotlib as mpl\n",
    "%matplotlib inline"
   ]
  },
  {
   "cell_type": "markdown",
   "metadata": {
    "collapsed": true
   },
   "source": [
    "### We need to transform all values to float for the algorithm"
   ]
  },
  {
   "cell_type": "code",
   "execution_count": 458,
   "metadata": {
    "collapsed": false
   },
   "outputs": [],
   "source": [
    "import random\n",
    "\n",
    "def get_dx_value(value):\n",
    "    return dx[value]\n",
    "\n",
    "random.seed()\n",
    "data = result['output']\n",
    "trainX = []\n",
    "trainY = []\n",
    "for p in data:\n",
    "    values = dict()\n",
    "    y = None\n",
    "    # transforms vars to a dict and converts the values to float\n",
    "    for v in p['vars']:\n",
    "        name =  v['name']\n",
    "        value = v['value']\n",
    "        if name == 'DX_bl':\n",
    "            #y value for training \n",
    "            y = dx[value]\n",
    "        elif  name != 'PTGENDER':\n",
    "            try:\n",
    "                values[name] = float(value)\n",
    "            except:\n",
    "                print \"could not transform %s->'%s'\" % (name, value)\n",
    "                raise\n",
    "        elif value == 'Male':\n",
    "            values[name] = 1.0\n",
    "        else:\n",
    "            values[name] = 0.0\n",
    "    \n",
    "    values['Random'] =random.random()\n",
    "    # sorts the keys so that all values always in the same order\n",
    "    keys = values.keys()\n",
    "    keys.sort()\n",
    "    trainX.append([values[k] for k in keys])\n",
    "    trainY.append(y)"
   ]
  },
  {
   "cell_type": "code",
   "execution_count": 459,
   "metadata": {
    "collapsed": false
   },
   "outputs": [
    {
     "data": {
      "text/plain": [
       "[u'AGE', u'CDRSB_bl', u'MMSE_bl', u'PTEDUCAT', u'PTGENDER', 'Random']"
      ]
     },
     "execution_count": 459,
     "metadata": {},
     "output_type": "execute_result"
    }
   ],
   "source": [
    "keys"
   ]
  },
  {
   "cell_type": "markdown",
   "metadata": {},
   "source": [
    "### This is using a extra trees classifier"
   ]
  },
  {
   "cell_type": "code",
   "execution_count": 460,
   "metadata": {
    "collapsed": false
   },
   "outputs": [
    {
     "name": "stdout",
     "output_type": "stream",
     "text": [
      "0,CDRSB_bl,0.375090 \n",
      "1,MMSE_bl,0.184442 \n",
      "2,AGE,0.163156 \n",
      "3,Random,0.148804 \n",
      "4,PTEDUCAT,0.108878 \n",
      "5,PTGENDER,0.019629 \n"
     ]
    }
   ],
   "source": [
    "forest = ske.ExtraTreesClassifier()\n",
    "forest.fit(trainX, trainY)\n",
    "\n",
    "fet_ind = np.argsort(forest.feature_importances_)[::-1]\n",
    "fet_imp = forest.feature_importances_[fet_ind]\n",
    "\n",
    "for n, idx in enumerate(fet_ind):\n",
    "    print \"%d,%s,%f \" % (n,keys[idx], fet_imp[n])"
   ]
  },
  {
   "cell_type": "code",
   "execution_count": 415,
   "metadata": {
    "collapsed": false
   },
   "outputs": [
    {
     "data": {
      "text/plain": [
       "array([ 0.16668616,  0.36634401,  0.19001983,  0.10859176,  0.02568605,\n",
       "        0.14267219])"
      ]
     },
     "execution_count": 415,
     "metadata": {},
     "output_type": "execute_result"
    }
   ],
   "source": [
    "forest.feature_importances_"
   ]
  },
  {
   "cell_type": "markdown",
   "metadata": {},
   "source": [
    "### This is using a random forest classifier"
   ]
  },
  {
   "cell_type": "code",
   "execution_count": 416,
   "metadata": {
    "collapsed": false
   },
   "outputs": [
    {
     "name": "stdout",
     "output_type": "stream",
     "text": [
      "0,CDRSB_bl,0.358041 \n",
      "1,MMSE_bl,0.195871 \n",
      "2,AGE,0.166864 \n",
      "3,Random,0.142457 \n",
      "4,PTEDUCAT,0.107641 \n",
      "5,PTGENDER,0.029126 \n"
     ]
    }
   ],
   "source": [
    "reg = ske.RandomForestClassifier()\n",
    "reg.fit(trainX, trainY);\n",
    "\n",
    "fet_ind = np.argsort(reg.feature_importances_)[::-1]\n",
    "fet_imp = reg.feature_importances_[fet_ind]\n",
    "\n",
    "for n, idx in enumerate(fet_ind):\n",
    "    print \"%d,%s,%f \" % (n,keys[idx], fet_imp[n]) "
   ]
  },
  {
   "cell_type": "markdown",
   "metadata": {},
   "source": [
    "### This is using a random forest regressor\n",
    "This does not work as well as the others I think"
   ]
  },
  {
   "cell_type": "code",
   "execution_count": 417,
   "metadata": {
    "collapsed": false
   },
   "outputs": [
    {
     "name": "stdout",
     "output_type": "stream",
     "text": [
      "0,AGE,0.334101 \n",
      "1,Random,0.216839 \n",
      "2,CDRSB_bl,0.216176 \n",
      "3,PTEDUCAT,0.117453 \n",
      "4,MMSE_bl,0.087617 \n",
      "5,PTGENDER,0.027813 \n"
     ]
    }
   ],
   "source": [
    "reg = ske.RandomForestRegressor()\n",
    "\n",
    "reg.fit(trainX, trainY);\n",
    "\n",
    "fet_ind = np.argsort(reg.feature_importances_)[::-1]\n",
    "fet_imp = reg.feature_importances_[fet_ind]\n",
    "\n",
    "for n, idx in enumerate(fet_ind):\n",
    "    print \"%d,%s,%f \" % (n,keys[idx], fet_imp[n]) "
   ]
  },
  {
   "cell_type": "code",
   "execution_count": 419,
   "metadata": {
    "collapsed": false
   },
   "outputs": [
    {
     "name": "stdout",
     "output_type": "stream",
     "text": [
      "0.568221070812\n"
     ]
    }
   ],
   "source": [
    "l = [a[4] for a in trainX]\n",
    "\n",
    "print reduce(lambda x, y: x + y, l) / len(l)"
   ]
  },
  {
   "cell_type": "code",
   "execution_count": 429,
   "metadata": {
    "collapsed": false
   },
   "outputs": [
    {
     "name": "stdout",
     "output_type": "stream",
     "text": [
      "feature_significance.csv           separate_data.ipynb    use_case_query.ipynb\r\n",
      "feature_significance_simple.ipynb  use_case_query2.ipynb  variables.csv\r\n"
     ]
    }
   ],
   "source": [
    "ls "
   ]
  },
  {
   "cell_type": "code",
   "execution_count": 428,
   "metadata": {
    "collapsed": true
   },
   "outputs": [],
   "source": [
    "!cp use_case_query.ipynb use_case_query2.ipynb"
   ]
  },
  {
   "cell_type": "code",
   "execution_count": null,
   "metadata": {
    "collapsed": true
   },
   "outputs": [],
   "source": []
  }
 ],
 "metadata": {
  "kernelspec": {
   "display_name": "Python 2",
   "language": "python",
   "name": "python2"
  },
  "language_info": {
   "codemirror_mode": {
    "name": "ipython",
    "version": 2
   },
   "file_extension": ".py",
   "mimetype": "text/x-python",
   "name": "python",
   "nbconvert_exporter": "python",
   "pygments_lexer": "ipython2",
   "version": "2.7.10"
  }
 },
 "nbformat": 4,
 "nbformat_minor": 0
}

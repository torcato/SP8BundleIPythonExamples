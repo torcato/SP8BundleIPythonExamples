{
 "cells": [
  {
   "cell_type": "markdown",
   "metadata": {},
   "source": [
    "# Data Separation iPython\n",
    "ADNI data separation for the SP8Bundle use case"
   ]
  },
  {
   "cell_type": "code",
   "execution_count": 31,
   "metadata": {
    "collapsed": false
   },
   "outputs": [
    {
     "name": "stdout",
     "output_type": "stream",
     "text": [
      "/home/torcato/development/Sp8Bundle\n"
     ]
    }
   ],
   "source": [
    "cd ~/development/Sp8Bundle/"
   ]
  },
  {
   "cell_type": "code",
   "execution_count": 32,
   "metadata": {
    "collapsed": false
   },
   "outputs": [
    {
     "name": "stdout",
     "output_type": "stream",
     "text": [
      "\u001b[0m\u001b[01;34mADNI\u001b[0m/  \u001b[01;31mADNI.zip\u001b[0m  \u001b[01;34mBrescia\u001b[0m/  \u001b[01;31mBrescia.zip\u001b[0m\r\n"
     ]
    }
   ],
   "source": [
    "ls"
   ]
  },
  {
   "cell_type": "code",
   "execution_count": 33,
   "metadata": {
    "collapsed": true
   },
   "outputs": [],
   "source": [
    "import matplotlib.pyplot as plt\n",
    "import numpy as np\n",
    "import pandas as pd \n",
    "import datetime\n",
    "import time\n",
    "import os\n",
    "import glob\n",
    "import csv\n",
    "\n",
    "%matplotlib inline"
   ]
  },
  {
   "cell_type": "code",
   "execution_count": 34,
   "metadata": {
    "collapsed": false
   },
   "outputs": [
    {
     "name": "stdout",
     "output_type": "stream",
     "text": [
      "/home/torcato/development/Sp8Bundle/ADNI/ADNI/Output\n"
     ]
    }
   ],
   "source": [
    "cd ADNI/ADNI/Output/"
   ]
  },
  {
   "cell_type": "code",
   "execution_count": 35,
   "metadata": {
    "collapsed": false
   },
   "outputs": [
    {
     "name": "stdout",
     "output_type": "stream",
     "text": [
      "\u001b[0m\u001b[01;34madni0\u001b[0m/           brain_feature.csv      diagnostic_codes.csv  genetic_set.csv\r\n",
      "\u001b[01;34madni1\u001b[0m/           brain_feature_set.csv  diagnostic.csv        genetic_snp.csv\r\n",
      "\u001b[01;34madni2\u001b[0m/           brain_region.csv       exam_measurement.csv  patient.csv\r\n",
      "brain_atlas.csv  brain_scan.csv         exam_value.csv\r\n"
     ]
    }
   ],
   "source": [
    "ls"
   ]
  },
  {
   "cell_type": "code",
   "execution_count": 36,
   "metadata": {
    "collapsed": false
   },
   "outputs": [
    {
     "name": "stdout",
     "output_type": "stream",
     "text": [
      "['brain_feature_set.csv', 'genetic_set.csv', 'patient.csv', 'brain_feature.csv', 'brain_scan.csv', 'exam_value.csv', 'brain_region.csv', 'genetic_snp.csv', 'exam_measurement.csv', 'brain_atlas.csv', 'diagnostic.csv', 'diagnostic_codes.csv']\n"
     ]
    }
   ],
   "source": [
    "print glob.glob(\"*.csv\")"
   ]
  },
  {
   "cell_type": "markdown",
   "metadata": {},
   "source": [
    "## Opens all files in the input folder"
   ]
  },
  {
   "cell_type": "code",
   "execution_count": 38,
   "metadata": {
    "collapsed": false
   },
   "outputs": [],
   "source": [
    "data_in = {}\n",
    "\n",
    "for f in glob.glob(\"*.csv\"):\n",
    "    basename = os.path.basename(f)\n",
    "    name =basename[:-4] \n",
    "    data_in[name] = pd.read_csv(f)"
   ]
  },
  {
   "cell_type": "markdown",
   "metadata": {},
   "source": [
    "## Correcting exam_values\n",
    "Selects all values that are string or finite\n",
    "\n",
    "corrects all baseline values\n",
    "\n",
    "Adds age, education and gender "
   ]
  },
  {
   "cell_type": "code",
   "execution_count": 39,
   "metadata": {
    "collapsed": false
   },
   "outputs": [
    {
     "name": "stdout",
     "output_type": "stream",
     "text": [
      "start length 813685\n",
      "cleaned lenght 205359\n"
     ]
    }
   ],
   "source": [
    "exams=data_in['exam_value']\n",
    "print \"start length\" , len(exams)\n",
    "exams=exams[exams.value.map( lambda x :  isinstance(x, str) or np.isfinite(x) )]\n",
    "exams=exams[exams.variable_name.map( lambda x: not x.endswith('_bl') )]\n",
    "print \"cleaned lenght\", len(exams)"
   ]
  },
  {
   "cell_type": "code",
   "execution_count": 40,
   "metadata": {
    "collapsed": true
   },
   "outputs": [],
   "source": [
    "def create_exam_value(var_name, ids, values,  dates):\n",
    "    n = len(ids)\n",
    "    df = pd.DataFrame()\n",
    "    columns = ['patient_id',\n",
    "             'exam_measurement_id',\n",
    "             'value',\n",
    "             'variable_name',\n",
    "             'status',\n",
    "             'exam_date',\n",
    "             'extracted_from',\n",
    "             'extraction_method',\n",
    "             'extraction_method_version',\n",
    "             'anonymization_method',\n",
    "             'anonymization_method_version',\n",
    "             'description',\n",
    "             'record_creation']\n",
    "\n",
    "    for name in columns:\n",
    "        if name == 'patient_id':\n",
    "            df[name]= ids\n",
    "        elif name == 'exam_measurement_id' or name == 'variable_name':\n",
    "            df[name]=[var_name]*n\n",
    "        elif name == 'value':\n",
    "            df[name]=values\n",
    "        elif name == 'extracted_from':\n",
    "            df[name]=['ADNI']*n    \n",
    "        elif name == 'record_creation':\n",
    "            df[name] = [datetime.datetime.now()] *n\n",
    "        elif name == 'exam_date':\n",
    "            df[name] = dates\n",
    "        else:\n",
    "            df[name]=['null']*n\n",
    "    return df"
   ]
  },
  {
   "cell_type": "code",
   "execution_count": 41,
   "metadata": {
    "collapsed": false
   },
   "outputs": [
    {
     "name": "stderr",
     "output_type": "stream",
     "text": [
      "/usr/local/lib/python2.7/dist-packages/ipykernel/__main__.py:5: SettingWithCopyWarning: \n",
      "A value is trying to be set on a copy of a slice from a DataFrame.\n",
      "Try using .loc[row_indexer,col_indexer] = value instead\n",
      "\n",
      "See the the caveats in the documentation: http://pandas.pydata.org/pandas-docs/stable/indexing.html#indexing-view-versus-copy\n"
     ]
    },
    {
     "data": {
      "text/html": [
       "<div style=\"max-height:1000px;max-width:1500px;overflow:auto;\">\n",
       "<table border=\"1\" class=\"dataframe\">\n",
       "  <thead>\n",
       "    <tr style=\"text-align: right;\">\n",
       "      <th></th>\n",
       "      <th>patient_id</th>\n",
       "      <th>exam_measurement_id</th>\n",
       "      <th>value</th>\n",
       "      <th>variable_name</th>\n",
       "      <th>status</th>\n",
       "      <th>exam_date</th>\n",
       "      <th>extracted_from</th>\n",
       "      <th>extraction_method</th>\n",
       "      <th>extraction_method_version</th>\n",
       "      <th>anonymization_method</th>\n",
       "      <th>anonymization_method_version</th>\n",
       "      <th>description</th>\n",
       "      <th>record_creation</th>\n",
       "    </tr>\n",
       "  </thead>\n",
       "  <tbody>\n",
       "    <tr>\n",
       "      <th>0 </th>\n",
       "      <td> adni_2</td>\n",
       "      <td> Age</td>\n",
       "      <td> 74.3</td>\n",
       "      <td> Age</td>\n",
       "      <td> null</td>\n",
       "      <td> 2005-09-08</td>\n",
       "      <td> ADNI</td>\n",
       "      <td> null</td>\n",
       "      <td> null</td>\n",
       "      <td> null</td>\n",
       "      <td> null</td>\n",
       "      <td> null</td>\n",
       "      <td>2015-12-10 10:49:17.636915</td>\n",
       "    </tr>\n",
       "    <tr>\n",
       "      <th>1 </th>\n",
       "      <td> adni_3</td>\n",
       "      <td> Age</td>\n",
       "      <td> 81.3</td>\n",
       "      <td> Age</td>\n",
       "      <td> null</td>\n",
       "      <td> 2005-09-12</td>\n",
       "      <td> ADNI</td>\n",
       "      <td> null</td>\n",
       "      <td> null</td>\n",
       "      <td> null</td>\n",
       "      <td> null</td>\n",
       "      <td> null</td>\n",
       "      <td>2015-12-10 10:49:17.636915</td>\n",
       "    </tr>\n",
       "    <tr>\n",
       "      <th>5 </th>\n",
       "      <td> adni_4</td>\n",
       "      <td> Age</td>\n",
       "      <td> 67.5</td>\n",
       "      <td> Age</td>\n",
       "      <td> null</td>\n",
       "      <td> 2005-11-08</td>\n",
       "      <td> ADNI</td>\n",
       "      <td> null</td>\n",
       "      <td> null</td>\n",
       "      <td> null</td>\n",
       "      <td> null</td>\n",
       "      <td> null</td>\n",
       "      <td>2015-12-10 10:49:17.636915</td>\n",
       "    </tr>\n",
       "    <tr>\n",
       "      <th>10</th>\n",
       "      <td> adni_5</td>\n",
       "      <td> Age</td>\n",
       "      <td> 73.7</td>\n",
       "      <td> Age</td>\n",
       "      <td> null</td>\n",
       "      <td> 2005-09-07</td>\n",
       "      <td> ADNI</td>\n",
       "      <td> null</td>\n",
       "      <td> null</td>\n",
       "      <td> null</td>\n",
       "      <td> null</td>\n",
       "      <td> null</td>\n",
       "      <td>2015-12-10 10:49:17.636915</td>\n",
       "    </tr>\n",
       "    <tr>\n",
       "      <th>15</th>\n",
       "      <td> adni_6</td>\n",
       "      <td> Age</td>\n",
       "      <td> 80.4</td>\n",
       "      <td> Age</td>\n",
       "      <td> null</td>\n",
       "      <td> 2005-11-29</td>\n",
       "      <td> ADNI</td>\n",
       "      <td> null</td>\n",
       "      <td> null</td>\n",
       "      <td> null</td>\n",
       "      <td> null</td>\n",
       "      <td> null</td>\n",
       "      <td>2015-12-10 10:49:17.636915</td>\n",
       "    </tr>\n",
       "  </tbody>\n",
       "</table>\n",
       "</div>"
      ],
      "text/plain": [
       "   patient_id exam_measurement_id  value variable_name status   exam_date  \\\n",
       "0      adni_2                 Age   74.3           Age   null  2005-09-08   \n",
       "1      adni_3                 Age   81.3           Age   null  2005-09-12   \n",
       "5      adni_4                 Age   67.5           Age   null  2005-11-08   \n",
       "10     adni_5                 Age   73.7           Age   null  2005-09-07   \n",
       "15     adni_6                 Age   80.4           Age   null  2005-11-29   \n",
       "\n",
       "   extracted_from extraction_method extraction_method_version  \\\n",
       "0            ADNI              null                      null   \n",
       "1            ADNI              null                      null   \n",
       "5            ADNI              null                      null   \n",
       "10           ADNI              null                      null   \n",
       "15           ADNI              null                      null   \n",
       "\n",
       "   anonymization_method anonymization_method_version description  \\\n",
       "0                  null                         null        null   \n",
       "1                  null                         null        null   \n",
       "5                  null                         null        null   \n",
       "10                 null                         null        null   \n",
       "15                 null                         null        null   \n",
       "\n",
       "              record_creation  \n",
       "0  2015-12-10 10:49:17.636915  \n",
       "1  2015-12-10 10:49:17.636915  \n",
       "5  2015-12-10 10:49:17.636915  \n",
       "10 2015-12-10 10:49:17.636915  \n",
       "15 2015-12-10 10:49:17.636915  "
      ]
     },
     "execution_count": 41,
     "metadata": {},
     "output_type": "execute_result"
    }
   ],
   "source": [
    "adnimerge = pd.read_csv(\"../InputFIles/ADNIMERGE.csv\")\n",
    "adni_bl = adnimerge[adnimerge.VISCODE == 'bl']\n",
    "adni_bl.RID = adni_bl.RID.map(lambda x: \"adni_%d\" % x)\n",
    "# adds an APOE4_bl\n",
    "adni_bl['APOE4_bl'] = adni_bl['APOE4'] \n",
    "create_exam_value('Age', adni_bl.RID, adni_bl.AGE, adni_bl.EXAMDATE_bl ).head()"
   ]
  },
  {
   "cell_type": "code",
   "execution_count": 42,
   "metadata": {
    "collapsed": false
   },
   "outputs": [],
   "source": [
    "# all baseline columns\n",
    "cols = [ col for col in adni_bl.columns if col.endswith('_bl')]\n",
    "cols.append('AGE')\n",
    "cols.append('PTGENDER')\n",
    "cols.append('PTEDUCAT')\n",
    "\n",
    "\n",
    "for name in cols:\n",
    "    df = create_exam_value(name, adni_bl.RID, adni_bl[name], adni_bl.EXAMDATE_bl )\n",
    "    exams=exams.append(df)"
   ]
  },
  {
   "cell_type": "code",
   "execution_count": 43,
   "metadata": {
    "collapsed": false
   },
   "outputs": [
    {
     "data": {
      "text/plain": [
       "278313"
      ]
     },
     "execution_count": 43,
     "metadata": {},
     "output_type": "execute_result"
    }
   ],
   "source": [
    "data_in['exam_value'] = exams\n",
    "\n",
    "len(data_in['exam_value'] )"
   ]
  },
  {
   "cell_type": "markdown",
   "metadata": {},
   "source": [
    "## Divides patients in n partitions"
   ]
  },
  {
   "cell_type": "code",
   "execution_count": 44,
   "metadata": {
    "collapsed": false
   },
   "outputs": [],
   "source": [
    "data_out = []\n",
    "partitions = 3\n",
    "length = len(data_in['patient'])/partitions\n",
    "\n",
    "for n in range(partitions):\n",
    "    patient = data_in['patient'][n*length:(n+1)*length]\n",
    "    data_out.append(dict(patient=patient))\n",
    "    \n",
    "# appends the rest if there is any\n",
    "patient = data_in['patient'][(n+1)*length:]\n",
    "data_out[n]['patient']=data_out[n]['patient'].append(patient)"
   ]
  },
  {
   "cell_type": "markdown",
   "metadata": {},
   "source": [
    "## From here on will separate the data in the other files by patient partitions"
   ]
  },
  {
   "cell_type": "code",
   "execution_count": 45,
   "metadata": {
    "collapsed": false
   },
   "outputs": [
    {
     "data": {
      "text/plain": [
       "['exam_measurement',\n",
       " 'patient',\n",
       " 'brain_feature',\n",
       " 'diagnostic_codes',\n",
       " 'genetic_set',\n",
       " 'brain_feature_set',\n",
       " 'brain_atlas',\n",
       " 'exam_value',\n",
       " 'brain_scan',\n",
       " 'brain_region',\n",
       " 'diagnostic',\n",
       " 'genetic_snp']"
      ]
     },
     "execution_count": 45,
     "metadata": {},
     "output_type": "execute_result"
    }
   ],
   "source": [
    "data_in.keys()"
   ]
  },
  {
   "cell_type": "code",
   "execution_count": 46,
   "metadata": {
    "collapsed": false
   },
   "outputs": [],
   "source": [
    "def by_pid(din, dout, name):\n",
    "    \"\"\"Creates new dataframe in dout from din[name] with the corresponding patients\"\"\"\n",
    "    ids = list(dout['patient'].id)\n",
    "    criteria = din[name].patient_id.map(lambda x: x in ids)\n",
    "    dout[name]= din[name][criteria]"
   ]
  },
  {
   "cell_type": "code",
   "execution_count": 47,
   "metadata": {
    "collapsed": false
   },
   "outputs": [],
   "source": [
    "tables = ['brain_feature',         \n",
    "         'genetic_set',\n",
    "         'brain_feature_set',         \n",
    "         'exam_value',                 \n",
    "         'diagnostic',\n",
    "         'genetic_snp']\n",
    "\n",
    "for dout in data_out:\n",
    "    for t in tables:\n",
    "        by_pid(data_in, dout, t) "
   ]
  },
  {
   "cell_type": "code",
   "execution_count": 48,
   "metadata": {
    "collapsed": false
   },
   "outputs": [],
   "source": [
    "# these are common tables\n",
    "tables = ['diagnostic_codes',         \n",
    "         'brain_atlas',         \n",
    "         'brain_region']\n",
    "\n",
    "for dout in data_out:\n",
    "    for t in tables:\n",
    "        dout[t] = data_in[t]"
   ]
  },
  {
   "cell_type": "code",
   "execution_count": 49,
   "metadata": {
    "collapsed": false
   },
   "outputs": [
    {
     "data": {
      "text/plain": [
       "['patient',\n",
       " 'diagnostic_codes',\n",
       " 'genetic_set',\n",
       " 'diagnostic',\n",
       " 'brain_atlas',\n",
       " 'exam_value',\n",
       " 'brain_feature',\n",
       " 'brain_region',\n",
       " 'brain_feature_set',\n",
       " 'genetic_snp']"
      ]
     },
     "execution_count": 49,
     "metadata": {},
     "output_type": "execute_result"
    }
   ],
   "source": [
    "dout.keys()"
   ]
  },
  {
   "cell_type": "markdown",
   "metadata": {},
   "source": [
    "## Saves all the data"
   ]
  },
  {
   "cell_type": "code",
   "execution_count": 50,
   "metadata": {
    "collapsed": false
   },
   "outputs": [
    {
     "name": "stdout",
     "output_type": "stream",
     "text": [
      "file adni0/patient.csv with 579 rows \n",
      "file adni0/diagnostic_codes.csv with 13413 rows \n",
      "file adni0/genetic_set.csv with 131 rows \n",
      "file adni0/diagnostic.csv with 3984 rows \n",
      "file adni0/brain_atlas.csv with 1 rows \n",
      "file adni0/exam_value.csv with 93194 rows \n",
      "file adni0/brain_feature.csv with 15196 rows \n",
      "file adni0/brain_region.csv with 116 rows \n",
      "file adni0/brain_feature_set.csv with 131 rows \n",
      "file adni0/genetic_snp.csv with 77000 rows \n",
      "partial time 0.639266014099 total time 0.639656066895\n",
      "file adni1/patient.csv with 579 rows \n",
      "file adni1/diagnostic_codes.csv with 13413 rows \n",
      "file adni1/genetic_set.csv with 112 rows \n",
      "file adni1/diagnostic.csv with 3790 rows \n",
      "file adni1/brain_atlas.csv with 1 rows \n",
      "file adni1/exam_value.csv with 92278 rows \n",
      "file adni1/brain_feature.csv with 12992 rows \n",
      "file adni1/brain_region.csv with 116 rows \n",
      "file adni1/brain_feature_set.csv with 112 rows \n",
      "file adni1/genetic_snp.csv with 73000 rows \n",
      "partial time 0.610282897949 total time 1.24999213219\n",
      "file adni2/patient.csv with 579 rows \n",
      "file adni2/diagnostic_codes.csv with 13413 rows \n",
      "file adni2/genetic_set.csv with 121 rows \n",
      "file adni2/diagnostic.csv with 4018 rows \n",
      "file adni2/brain_atlas.csv with 1 rows \n",
      "file adni2/exam_value.csv with 92841 rows \n",
      "file adni2/brain_feature.csv with 14036 rows \n",
      "file adni2/brain_region.csv with 116 rows \n",
      "file adni2/brain_feature_set.csv with 121 rows \n",
      "file adni2/genetic_snp.csv with 60000 rows \n",
      "partial time 0.593131780624 total time 1.84317803383\n"
     ]
    }
   ],
   "source": [
    "start = time.time()\n",
    "for n,data in enumerate(data_out):\n",
    "    partial_time = time.time()\n",
    "    directory = \"adni%d\" % n\n",
    "    if not os.path.exists(directory):\n",
    "        os.makedirs(directory)\n",
    "    \n",
    "    for name in data:\n",
    "        filename = 'adni%d/%s.csv' %( n, name)\n",
    "        print \"file %s with %d rows \" % (filename, len(data[name]))\n",
    "        data[name].to_csv( filename, index=False)\n",
    "    print \"partial time\", time.time()-partial_time,\"total time\", time.time()-start"
   ]
  },
  {
   "cell_type": "code",
   "execution_count": 51,
   "metadata": {
    "collapsed": false
   },
   "outputs": [
    {
     "name": "stdout",
     "output_type": "stream",
     "text": [
      "Total number of subjects 1737\n",
      "daset 0 with 579 subjects\n",
      "daset 1 with 579 subjects\n",
      "daset 2 with 579 subjects\n"
     ]
    }
   ],
   "source": [
    "print \"Total number of subjects\", len(data_in['patient'])\n",
    "for n,d in enumerate(data_out):\n",
    "    print \"daset %d with %d subjects\" %(n, len(d['patient']))"
   ]
  },
  {
   "cell_type": "code",
   "execution_count": 59,
   "metadata": {
    "collapsed": false
   },
   "outputs": [
    {
     "name": "stdout",
     "output_type": "stream",
     "text": [
      "ADAS11\n",
      "ADAS13\n",
      "APOE\n",
      "CDR\n",
      "DX\n",
      "Entorhinal\n",
      "FAQ\n",
      "FDG\n",
      "Fusiform\n",
      "Hippocampus\n",
      "ICV\n",
      "MMSE\n",
      "MidTemp\n",
      "PIB\n",
      "RAVLT_forgetting\n",
      "RAVLT_immediate\n",
      "RAVLT_learning\n",
      "RAVLT_perc_forgetting\n",
      "Ventricles\n",
      "WholeBrain\n",
      "AV45\n",
      "EcogPtDivatt\n",
      "EcogPtLang\n",
      "EcogPtMem\n",
      "EcogPtOrgan\n",
      "EcogPtPlan\n",
      "EcogPtTotal\n",
      "EcogPtVisspat\n",
      "EcogSPDivatt\n",
      "EcogSPLang\n",
      "EcogSPMem\n",
      "EcogSPOrgan\n",
      "EcogSPPlan\n",
      "EcogSPTotal\n",
      "EcogSPVisspat\n",
      "MOCA\n",
      "DX_bl\n",
      "EXAMDATE_bl\n",
      "CDRSB_bl\n",
      "ADAS11_bl\n",
      "ADAS13_bl\n",
      "MMSE_bl\n",
      "RAVLT_immediate_bl\n",
      "RAVLT_learning_bl\n",
      "RAVLT_forgetting_bl\n",
      "RAVLT_perc_forgetting_bl\n",
      "FAQ_bl\n",
      "Ventricles_bl\n",
      "Hippocampus_bl\n",
      "WholeBrain_bl\n",
      "Entorhinal_bl\n",
      "Fusiform_bl\n",
      "MidTemp_bl\n",
      "ICV_bl\n",
      "MOCA_bl\n",
      "EcogPtMem_bl\n",
      "EcogPtLang_bl\n",
      "EcogPtVisspat_bl\n",
      "EcogPtPlan_bl\n",
      "EcogPtOrgan_bl\n",
      "EcogPtDivatt_bl\n",
      "EcogPtTotal_bl\n",
      "EcogSPMem_bl\n",
      "EcogSPLang_bl\n",
      "EcogSPVisspat_bl\n",
      "EcogSPPlan_bl\n",
      "EcogSPOrgan_bl\n",
      "EcogSPDivatt_bl\n",
      "EcogSPTotal_bl\n",
      "FDG_bl\n",
      "PIB_bl\n",
      "AV45_bl\n",
      "Years_bl\n",
      "Month_bl\n",
      "APOE4_bl\n",
      "AGE\n",
      "PTGENDER\n",
      "PTEDUCAT\n"
     ]
    }
   ],
   "source": [
    "for v in data_out[0]['exam_value'].variable_name.unique():\n",
    "    print v\n"
   ]
  },
  {
   "cell_type": "code",
   "execution_count": null,
   "metadata": {
    "collapsed": true
   },
   "outputs": [],
   "source": []
  }
 ],
 "metadata": {
  "kernelspec": {
   "display_name": "Python 2",
   "language": "python",
   "name": "python2"
  },
  "language_info": {
   "codemirror_mode": {
    "name": "ipython",
    "version": 2
   },
   "file_extension": ".py",
   "mimetype": "text/x-python",
   "name": "python",
   "nbconvert_exporter": "python",
   "pygments_lexer": "ipython2",
   "version": "2.7.10"
  }
 },
 "nbformat": 4,
 "nbformat_minor": 0
}
